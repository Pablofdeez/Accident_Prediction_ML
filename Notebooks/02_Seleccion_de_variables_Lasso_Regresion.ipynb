{
 "cells": [
  {
   "cell_type": "markdown",
   "metadata": {},
   "source": [
    "# Selección de variables, Lasso"
   ]
  },
  {
   "cell_type": "markdown",
   "metadata": {},
   "source": [
    "#### Importamos las librerias necesarias"
   ]
  },
  {
   "cell_type": "code",
   "execution_count": 5,
   "metadata": {},
   "outputs": [],
   "source": [
    "import pandas as pd\n",
    "import numpy as np\n",
    "import matplotlib.pyplot as plt\n",
    "import seaborn as sns\n",
    "import sklearn as ts"
   ]
  },
  {
   "cell_type": "code",
   "execution_count": 6,
   "metadata": {},
   "outputs": [],
   "source": [
    "import category_encoders as ce\n",
    "from sklearn.preprocessing import OneHotEncoder\n",
    "import matplotlib.pyplot as plt\n",
    "import seaborn as sns\n",
    "\n",
    "from sklearn.metrics import classification_report, confusion_matrix, roc_curve, auc, \\\n",
    "                            silhouette_score, recall_score, precision_score, make_scorer, \\\n",
    "                            roc_auc_score, f1_score, precision_recall_curve, accuracy_score, roc_auc_score, \\\n",
    "                            classification_report, confusion_matrix\n",
    "                            \n",
    "from sklearn.metrics import plot_confusion_matrix\n",
    "\n",
    "from sklearn.model_selection import train_test_split\n",
    "from sklearn.utils import resample\n",
    "\n",
    "from sklearn.preprocessing import StandardScaler, OneHotEncoder\n",
    "\n",
    "from sklearn.model_selection import GridSearchCV"
   ]
  },
  {
   "cell_type": "markdown",
   "metadata": {},
   "source": [
    "#### Leemos el dataset guardado de nuestro EDA"
   ]
  },
  {
   "cell_type": "code",
   "execution_count": 4,
   "metadata": {},
   "outputs": [
    {
     "data": {
      "text/html": [
       "<div>\n",
       "<style scoped>\n",
       "    .dataframe tbody tr th:only-of-type {\n",
       "        vertical-align: middle;\n",
       "    }\n",
       "\n",
       "    .dataframe tbody tr th {\n",
       "        vertical-align: top;\n",
       "    }\n",
       "\n",
       "    .dataframe thead th {\n",
       "        text-align: right;\n",
       "    }\n",
       "</style>\n",
       "<table border=\"1\" class=\"dataframe\">\n",
       "  <thead>\n",
       "    <tr style=\"text-align: right;\">\n",
       "      <th></th>\n",
       "      <th>C_YEAR</th>\n",
       "      <th>C_MNTH</th>\n",
       "      <th>C_WDAY</th>\n",
       "      <th>C_HOUR</th>\n",
       "      <th>C_SEV</th>\n",
       "      <th>C_VEHS</th>\n",
       "      <th>C_CONF</th>\n",
       "      <th>C_RCFG</th>\n",
       "      <th>C_WTHR</th>\n",
       "      <th>C_RSUR</th>\n",
       "      <th>...</th>\n",
       "      <th>V_ID</th>\n",
       "      <th>V_TYPE</th>\n",
       "      <th>V_YEAR</th>\n",
       "      <th>P_ID</th>\n",
       "      <th>P_SEX</th>\n",
       "      <th>P_AGE</th>\n",
       "      <th>P_PSN</th>\n",
       "      <th>P_ISEV</th>\n",
       "      <th>P_SAFE</th>\n",
       "      <th>P_USER</th>\n",
       "    </tr>\n",
       "  </thead>\n",
       "  <tbody>\n",
       "    <tr>\n",
       "      <th>1999-01-01</th>\n",
       "      <td>1999</td>\n",
       "      <td>1</td>\n",
       "      <td>1</td>\n",
       "      <td>0</td>\n",
       "      <td>2</td>\n",
       "      <td>2</td>\n",
       "      <td>21</td>\n",
       "      <td>2</td>\n",
       "      <td>1</td>\n",
       "      <td>5</td>\n",
       "      <td>...</td>\n",
       "      <td>1</td>\n",
       "      <td>6</td>\n",
       "      <td>1989</td>\n",
       "      <td>1</td>\n",
       "      <td>0</td>\n",
       "      <td>18</td>\n",
       "      <td>11</td>\n",
       "      <td>2</td>\n",
       "      <td>2</td>\n",
       "      <td>1</td>\n",
       "    </tr>\n",
       "    <tr>\n",
       "      <th>1999-01-01</th>\n",
       "      <td>1999</td>\n",
       "      <td>1</td>\n",
       "      <td>1</td>\n",
       "      <td>0</td>\n",
       "      <td>2</td>\n",
       "      <td>2</td>\n",
       "      <td>21</td>\n",
       "      <td>2</td>\n",
       "      <td>1</td>\n",
       "      <td>5</td>\n",
       "      <td>...</td>\n",
       "      <td>1</td>\n",
       "      <td>6</td>\n",
       "      <td>1989</td>\n",
       "      <td>2</td>\n",
       "      <td>0</td>\n",
       "      <td>16</td>\n",
       "      <td>13</td>\n",
       "      <td>2</td>\n",
       "      <td>2</td>\n",
       "      <td>2</td>\n",
       "    </tr>\n",
       "    <tr>\n",
       "      <th>1999-01-01</th>\n",
       "      <td>1999</td>\n",
       "      <td>1</td>\n",
       "      <td>1</td>\n",
       "      <td>0</td>\n",
       "      <td>2</td>\n",
       "      <td>2</td>\n",
       "      <td>21</td>\n",
       "      <td>2</td>\n",
       "      <td>1</td>\n",
       "      <td>5</td>\n",
       "      <td>...</td>\n",
       "      <td>2</td>\n",
       "      <td>1</td>\n",
       "      <td>1991</td>\n",
       "      <td>1</td>\n",
       "      <td>1</td>\n",
       "      <td>16</td>\n",
       "      <td>11</td>\n",
       "      <td>1</td>\n",
       "      <td>2</td>\n",
       "      <td>1</td>\n",
       "    </tr>\n",
       "    <tr>\n",
       "      <th>1999-01-01</th>\n",
       "      <td>1999</td>\n",
       "      <td>1</td>\n",
       "      <td>1</td>\n",
       "      <td>0</td>\n",
       "      <td>2</td>\n",
       "      <td>2</td>\n",
       "      <td>34</td>\n",
       "      <td>2</td>\n",
       "      <td>4</td>\n",
       "      <td>3</td>\n",
       "      <td>...</td>\n",
       "      <td>2</td>\n",
       "      <td>1</td>\n",
       "      <td>1992</td>\n",
       "      <td>1</td>\n",
       "      <td>0</td>\n",
       "      <td>18</td>\n",
       "      <td>11</td>\n",
       "      <td>1</td>\n",
       "      <td>2</td>\n",
       "      <td>1</td>\n",
       "    </tr>\n",
       "    <tr>\n",
       "      <th>1999-01-01</th>\n",
       "      <td>1999</td>\n",
       "      <td>1</td>\n",
       "      <td>1</td>\n",
       "      <td>0</td>\n",
       "      <td>2</td>\n",
       "      <td>2</td>\n",
       "      <td>34</td>\n",
       "      <td>2</td>\n",
       "      <td>4</td>\n",
       "      <td>3</td>\n",
       "      <td>...</td>\n",
       "      <td>1</td>\n",
       "      <td>1</td>\n",
       "      <td>1998</td>\n",
       "      <td>1</td>\n",
       "      <td>0</td>\n",
       "      <td>30</td>\n",
       "      <td>11</td>\n",
       "      <td>2</td>\n",
       "      <td>2</td>\n",
       "      <td>1</td>\n",
       "    </tr>\n",
       "    <tr>\n",
       "      <th>...</th>\n",
       "      <td>...</td>\n",
       "      <td>...</td>\n",
       "      <td>...</td>\n",
       "      <td>...</td>\n",
       "      <td>...</td>\n",
       "      <td>...</td>\n",
       "      <td>...</td>\n",
       "      <td>...</td>\n",
       "      <td>...</td>\n",
       "      <td>...</td>\n",
       "      <td>...</td>\n",
       "      <td>...</td>\n",
       "      <td>...</td>\n",
       "      <td>...</td>\n",
       "      <td>...</td>\n",
       "      <td>...</td>\n",
       "      <td>...</td>\n",
       "      <td>...</td>\n",
       "      <td>...</td>\n",
       "      <td>...</td>\n",
       "      <td>...</td>\n",
       "    </tr>\n",
       "    <tr>\n",
       "      <th>2014-12-07</th>\n",
       "      <td>2014</td>\n",
       "      <td>12</td>\n",
       "      <td>7</td>\n",
       "      <td>23</td>\n",
       "      <td>2</td>\n",
       "      <td>1</td>\n",
       "      <td>21</td>\n",
       "      <td>2</td>\n",
       "      <td>5</td>\n",
       "      <td>5</td>\n",
       "      <td>...</td>\n",
       "      <td>1</td>\n",
       "      <td>1</td>\n",
       "      <td>2000</td>\n",
       "      <td>1</td>\n",
       "      <td>1</td>\n",
       "      <td>17</td>\n",
       "      <td>11</td>\n",
       "      <td>2</td>\n",
       "      <td>2</td>\n",
       "      <td>1</td>\n",
       "    </tr>\n",
       "    <tr>\n",
       "      <th>2014-12-07</th>\n",
       "      <td>2014</td>\n",
       "      <td>12</td>\n",
       "      <td>7</td>\n",
       "      <td>23</td>\n",
       "      <td>2</td>\n",
       "      <td>1</td>\n",
       "      <td>6</td>\n",
       "      <td>1</td>\n",
       "      <td>4</td>\n",
       "      <td>3</td>\n",
       "      <td>...</td>\n",
       "      <td>1</td>\n",
       "      <td>1</td>\n",
       "      <td>2013</td>\n",
       "      <td>1</td>\n",
       "      <td>1</td>\n",
       "      <td>13</td>\n",
       "      <td>11</td>\n",
       "      <td>1</td>\n",
       "      <td>2</td>\n",
       "      <td>1</td>\n",
       "    </tr>\n",
       "    <tr>\n",
       "      <th>2014-12-07</th>\n",
       "      <td>2014</td>\n",
       "      <td>12</td>\n",
       "      <td>7</td>\n",
       "      <td>23</td>\n",
       "      <td>2</td>\n",
       "      <td>1</td>\n",
       "      <td>6</td>\n",
       "      <td>1</td>\n",
       "      <td>4</td>\n",
       "      <td>3</td>\n",
       "      <td>...</td>\n",
       "      <td>99</td>\n",
       "      <td>1</td>\n",
       "      <td>2000</td>\n",
       "      <td>1</td>\n",
       "      <td>1</td>\n",
       "      <td>19</td>\n",
       "      <td>99</td>\n",
       "      <td>2</td>\n",
       "      <td>2</td>\n",
       "      <td>3</td>\n",
       "    </tr>\n",
       "    <tr>\n",
       "      <th>2014-12-07</th>\n",
       "      <td>2014</td>\n",
       "      <td>12</td>\n",
       "      <td>7</td>\n",
       "      <td>23</td>\n",
       "      <td>2</td>\n",
       "      <td>1</td>\n",
       "      <td>6</td>\n",
       "      <td>2</td>\n",
       "      <td>1</td>\n",
       "      <td>1</td>\n",
       "      <td>...</td>\n",
       "      <td>1</td>\n",
       "      <td>1</td>\n",
       "      <td>2014</td>\n",
       "      <td>1</td>\n",
       "      <td>0</td>\n",
       "      <td>54</td>\n",
       "      <td>11</td>\n",
       "      <td>1</td>\n",
       "      <td>2</td>\n",
       "      <td>1</td>\n",
       "    </tr>\n",
       "    <tr>\n",
       "      <th>2014-12-07</th>\n",
       "      <td>2014</td>\n",
       "      <td>12</td>\n",
       "      <td>7</td>\n",
       "      <td>23</td>\n",
       "      <td>2</td>\n",
       "      <td>1</td>\n",
       "      <td>6</td>\n",
       "      <td>2</td>\n",
       "      <td>1</td>\n",
       "      <td>1</td>\n",
       "      <td>...</td>\n",
       "      <td>99</td>\n",
       "      <td>1</td>\n",
       "      <td>2000</td>\n",
       "      <td>1</td>\n",
       "      <td>0</td>\n",
       "      <td>58</td>\n",
       "      <td>99</td>\n",
       "      <td>2</td>\n",
       "      <td>2</td>\n",
       "      <td>3</td>\n",
       "    </tr>\n",
       "  </tbody>\n",
       "</table>\n",
       "<p>5860405 rows × 22 columns</p>\n",
       "</div>"
      ],
      "text/plain": [
       "            C_YEAR  C_MNTH  C_WDAY  C_HOUR  C_SEV  C_VEHS  C_CONF  C_RCFG  \\\n",
       "1999-01-01    1999       1       1       0      2       2      21       2   \n",
       "1999-01-01    1999       1       1       0      2       2      21       2   \n",
       "1999-01-01    1999       1       1       0      2       2      21       2   \n",
       "1999-01-01    1999       1       1       0      2       2      34       2   \n",
       "1999-01-01    1999       1       1       0      2       2      34       2   \n",
       "...            ...     ...     ...     ...    ...     ...     ...     ...   \n",
       "2014-12-07    2014      12       7      23      2       1      21       2   \n",
       "2014-12-07    2014      12       7      23      2       1       6       1   \n",
       "2014-12-07    2014      12       7      23      2       1       6       1   \n",
       "2014-12-07    2014      12       7      23      2       1       6       2   \n",
       "2014-12-07    2014      12       7      23      2       1       6       2   \n",
       "\n",
       "            C_WTHR  C_RSUR  ...  V_ID  V_TYPE  V_YEAR  P_ID  P_SEX  P_AGE  \\\n",
       "1999-01-01       1       5  ...     1       6    1989     1      0     18   \n",
       "1999-01-01       1       5  ...     1       6    1989     2      0     16   \n",
       "1999-01-01       1       5  ...     2       1    1991     1      1     16   \n",
       "1999-01-01       4       3  ...     2       1    1992     1      0     18   \n",
       "1999-01-01       4       3  ...     1       1    1998     1      0     30   \n",
       "...            ...     ...  ...   ...     ...     ...   ...    ...    ...   \n",
       "2014-12-07       5       5  ...     1       1    2000     1      1     17   \n",
       "2014-12-07       4       3  ...     1       1    2013     1      1     13   \n",
       "2014-12-07       4       3  ...    99       1    2000     1      1     19   \n",
       "2014-12-07       1       1  ...     1       1    2014     1      0     54   \n",
       "2014-12-07       1       1  ...    99       1    2000     1      0     58   \n",
       "\n",
       "            P_PSN  P_ISEV  P_SAFE  P_USER  \n",
       "1999-01-01     11       2       2       1  \n",
       "1999-01-01     13       2       2       2  \n",
       "1999-01-01     11       1       2       1  \n",
       "1999-01-01     11       1       2       1  \n",
       "1999-01-01     11       2       2       1  \n",
       "...           ...     ...     ...     ...  \n",
       "2014-12-07     11       2       2       1  \n",
       "2014-12-07     11       1       2       1  \n",
       "2014-12-07     99       2       2       3  \n",
       "2014-12-07     11       1       2       1  \n",
       "2014-12-07     99       2       2       3  \n",
       "\n",
       "[5860405 rows x 22 columns]"
      ]
     },
     "execution_count": 4,
     "metadata": {},
     "output_type": "execute_result"
    }
   ],
   "source": [
    "Directory = 'df_core.csv'\n",
    "df_core = pd.read_csv(Directory)\n",
    "# df_core = df_core.set_index(\"Date\")\n",
    "df_core"
   ]
  },
  {
   "cell_type": "markdown",
   "metadata": {},
   "source": [
    "## Selección de variables"
   ]
  },
  {
   "cell_type": "markdown",
   "metadata": {},
   "source": [
    "Consideramos eliminar todas las variables que no tengan que ver con el propio vehículo, teniendo en cuenta para el modelo unicamente cómo se da el accidente y las condiciones externas en las que se encuentran los vehiculos involucrados. No tendremos en cuenta la identificación de las personas implicadas ni las cualidades del vehiculo."
   ]
  },
  {
   "cell_type": "code",
   "execution_count": 7,
   "metadata": {},
   "outputs": [],
   "source": [
    "df_core = df_core.drop(['P_ID','P_SEX','P_AGE','P_PSN','P_ISEV','P_SAFE','P_USER','V_TYPE','V_YEAR', 'V_ID'], axis=1)"
   ]
  },
  {
   "cell_type": "markdown",
   "metadata": {},
   "source": [
    "Reenombramos la variable target de forma que los accidentes no mortales pasen de ser '2' a ser '0'. Esto nos permite un mejor tratamiento de los datos."
   ]
  },
  {
   "cell_type": "code",
   "execution_count": 8,
   "metadata": {},
   "outputs": [
    {
     "data": {
      "text/plain": [
       "0    5761772\n",
       "1      98633\n",
       "Name: C_SEV, dtype: int64"
      ]
     },
     "execution_count": 8,
     "metadata": {},
     "output_type": "execute_result"
    }
   ],
   "source": [
    "csev_clean = {\"C_SEV\":{2: 0, 1:1}}\n",
    "df_core.replace(csev_clean, inplace=True)\n",
    "\n",
    "df_core.C_SEV.value_counts()"
   ]
  },
  {
   "cell_type": "markdown",
   "metadata": {},
   "source": [
    "#### Unimos algunas etiquetas en una sola para ser más eficientes a la hora de modelar \n",
    "\n",
    "Por ejemplo, estudiamos la variable de vehiculos involucrados en el accidente, cuando se ven mas de cinco coches implicados, la cantidad de registros es mínima, por lo tanto creamos una nueva categoria \"mas de cinco coches involucrados\"\n",
    "\n",
    "Haremos la transformación y luego escribiremos la nueva leyenda de cada variable."
   ]
  },
  {
   "cell_type": "code",
   "execution_count": 9,
   "metadata": {},
   "outputs": [
    {
     "data": {
      "text/plain": [
       "2    4799049\n",
       "1     587278\n",
       "3     352189\n",
       "4      86397\n",
       "5      21217\n",
       "6      14275\n",
       "Name: C_VEHS, dtype: int64"
      ]
     },
     "execution_count": 9,
     "metadata": {},
     "output_type": "execute_result"
    }
   ],
   "source": [
    "cvehs_clean = {\"C_VEHS\":{7:6, 8:6, 9:6, 10:6, 11:6, 12:6, 13:6, 14:6, 15:6,\n",
    "                        16:6, 17:6, 18:6, 19:6, 20:6, 21:6, 22:6, 23:6, 24:6,\n",
    "                        25:6, 26:6, 27:6, 28:6, 29:6, 30:6, 31:6, 32:6, 33:6,\n",
    "                        34:6, 35:6, 36:6, 37:6, 38:6, 39:6, 40:6, 41:6, 43:6,\n",
    "                        44:6, 46:6, 51:6, 54:6, 56:6, 57:6, 58:6, 71:6, 72:6, 77:6}}\n",
    "df_core.replace(cvehs_clean, inplace=True)\n",
    "\n",
    "df_core.C_VEHS.value_counts()"
   ]
  },
  {
   "cell_type": "markdown",
   "metadata": {},
   "source": [
    "- 1-5: 1-5 vehículos involucrados\n",
    "- 6: > 5 vehículos involucrados"
   ]
  },
  {
   "cell_type": "code",
   "execution_count": 10,
   "metadata": {},
   "outputs": [
    {
     "data": {
      "text/plain": [
       "2    3395698\n",
       "1    2079515\n",
       "3     289184\n",
       "4      93709\n",
       "5       1743\n",
       "6        556\n",
       "Name: C_RCFG, dtype: int64"
      ]
     },
     "execution_count": 10,
     "metadata": {},
     "output_type": "execute_result"
    }
   ],
   "source": [
    "crcfg_clean = {\"C_RCFG\":{5:4, 6:4, 7:4, 8:4, 9:5, 10:6, 11:6, 12:6}}\n",
    "df_core.replace(crcfg_clean, inplace=True)\n",
    "\n",
    "df_core.C_RCFG.value_counts()"
   ]
  },
  {
   "cell_type": "markdown",
   "metadata": {},
   "source": [
    "- 1: No interseccion\n",
    "- 2: Interseccion, al menos dos vias publicas\n",
    "- 3: interseccion con entrada o salida de parking\n",
    "- 4: Paso a nivel ferrocarril, tunel, puente, carril de paso, rampa\n",
    "- 5: Rotonda\n",
    "- 6: Autovias"
   ]
  },
  {
   "cell_type": "code",
   "execution_count": 11,
   "metadata": {},
   "outputs": [
    {
     "data": {
      "text/plain": [
       "1    4177526\n",
       "2     600226\n",
       "3     600105\n",
       "4     384945\n",
       "7      97603\n",
       "Name: C_WTHR, dtype: int64"
      ]
     },
     "execution_count": 11,
     "metadata": {},
     "output_type": "execute_result"
    }
   ],
   "source": [
    "cwthr_clean = {\"C_WTHR\":{5:4, 6:7}}\n",
    "df_core.replace(cwthr_clean, inplace=True)\n",
    "\n",
    "df_core.C_WTHR.value_counts()"
   ]
  },
  {
   "cell_type": "markdown",
   "metadata": {},
   "source": [
    "- 1: Despejado y soleado\n",
    "- 2: Nublado sin precipitaciones\n",
    "- 3: Lluvia\n",
    "- 4: Nieve, granizo, aguanieve y viento fuerte\n",
    "- 5: Visibilidad limitada"
   ]
  },
  {
   "cell_type": "code",
   "execution_count": 12,
   "metadata": {},
   "outputs": [
    {
     "data": {
      "text/plain": [
       "1    4094830\n",
       "2    1080964\n",
       "3     651720\n",
       "4      32891\n",
       "Name: C_RSUR, dtype: int64"
      ]
     },
     "execution_count": 12,
     "metadata": {},
     "output_type": "execute_result"
    }
   ],
   "source": [
    "crsur_clean = {\"C_RSUR\":{4:3, 5:3, 6:4, 7:4, 8:4, 9:4}}\n",
    "df_core.replace(crsur_clean, inplace=True)\n",
    "\n",
    "df_core.C_RSUR.value_counts()"
   ]
  },
  {
   "cell_type": "markdown",
   "metadata": {},
   "source": [
    "- 1: Calzada seca\n",
    "- 2: Calzada humeda\n",
    "- 3: Nieve o hielo en la calzada\n",
    "- 4: Otros materiales en la calzada"
   ]
  },
  {
   "cell_type": "code",
   "execution_count": 13,
   "metadata": {},
   "outputs": [
    {
     "data": {
      "text/plain": [
       "1    4625671\n",
       "3     585092\n",
       "2     584025\n",
       "5      37991\n",
       "6      27626\n",
       "Name: C_RALN, dtype: int64"
      ]
     },
     "execution_count": 13,
     "metadata": {},
     "output_type": "execute_result"
    }
   ],
   "source": [
    "craln_clean = {\"C_RALN\":{4:3}}\n",
    "df_core.replace(craln_clean, inplace=True)\n",
    "\n",
    "df_core.C_RALN.value_counts()"
   ]
  },
  {
   "cell_type": "markdown",
   "metadata": {},
   "source": [
    "- 1: Calzada recta y nivelada\n",
    "- 2: Calzada recta con pendiente\n",
    "- 3: Calzada curva, nivelada o con pendiente\n",
    "- 4: Parte superior de la colina\n",
    "- 5: Parte inferior de la colina"
   ]
  },
  {
   "cell_type": "code",
   "execution_count": 14,
   "metadata": {},
   "outputs": [
    {
     "data": {
      "text/plain": [
       "8    3373549\n",
       "1    1647423\n",
       "2     743895\n",
       "3      45600\n",
       "4      31746\n",
       "5       9554\n",
       "6       4669\n",
       "7       3969\n",
       "Name: C_TRAF, dtype: int64"
      ]
     },
     "execution_count": 14,
     "metadata": {},
     "output_type": "execute_result"
    }
   ],
   "source": [
    "ctraf_clean = {\"C_TRAF\":{2:1, 3:2, 4:2, 5:2, 6:3, 7:4, 8:4, 9:4, 10:5, 11:5,\n",
    "                        12:5, 13:4, 14:4, 15:6, 16:6, 17:7, 18:8}}\n",
    "df_core.replace(ctraf_clean, inplace=True)\n",
    "\n",
    "df_core.C_TRAF.value_counts()"
   ]
  },
  {
   "cell_type": "markdown",
   "metadata": {},
   "source": [
    "- 1: Señal traficos\n",
    "- 2: Stop, ceda el paso o señal de peligro\n",
    "- 3: Paso de peatones\n",
    "- 4: Agente policia, autobús o cruce escolar\n",
    "- 5: Prohibido adelantar\n",
    "- 6: Cruce de ferrocarril o paso a nivel\n",
    "- 7: Dispositivo de control no especificado\n",
    "- 8: Sin control\n",
    "\n",
    "### Estudiamos las clases de las columnas\n",
    "\n",
    "Transformamos las columnas previamente 'Int64' a 'category' para poder trabajar con ellas más adelante"
   ]
  },
  {
   "cell_type": "code",
   "execution_count": 15,
   "metadata": {},
   "outputs": [],
   "source": [
    "df_core['C_VEHS'] = pd.Categorical(df_core.C_VEHS)\n",
    "df_core['C_CONF'] = pd.Categorical(df_core.C_CONF)\n",
    "df_core['C_RCFG'] = pd.Categorical(df_core.C_CONF)\n",
    "df_core['C_WTHR'] = pd.Categorical(df_core.C_WTHR)\n",
    "df_core['C_RSUR'] = pd.Categorical(df_core.C_RSUR)\n",
    "df_core['C_RALN'] = pd.Categorical(df_core.C_RALN)\n",
    "df_core['C_TRAF'] = pd.Categorical(df_core.C_TRAF)"
   ]
  },
  {
   "cell_type": "markdown",
   "metadata": {},
   "source": [
    "Comprobamos dichas clases"
   ]
  },
  {
   "cell_type": "code",
   "execution_count": 16,
   "metadata": {},
   "outputs": [
    {
     "data": {
      "text/plain": [
       "C_YEAR       int64\n",
       "C_MNTH       int64\n",
       "C_WDAY       int64\n",
       "C_HOUR       int64\n",
       "C_SEV        int64\n",
       "C_VEHS    category\n",
       "C_CONF    category\n",
       "C_RCFG    category\n",
       "C_WTHR    category\n",
       "C_RSUR    category\n",
       "C_RALN    category\n",
       "C_TRAF    category\n",
       "dtype: object"
      ]
     },
     "execution_count": 16,
     "metadata": {},
     "output_type": "execute_result"
    }
   ],
   "source": [
    "df_core.dtypes"
   ]
  },
  {
   "cell_type": "markdown",
   "metadata": {},
   "source": [
    "## Modelado"
   ]
  },
  {
   "cell_type": "code",
   "execution_count": 17,
   "metadata": {},
   "outputs": [
    {
     "name": "stdout",
     "output_type": "stream",
     "text": [
      "(5761772, 12)\n",
      "(98633, 12)\n"
     ]
    }
   ],
   "source": [
    "df_non_fatal = df_core[df_core.C_SEV == 0]\n",
    "df_fatal = df_core[df_core.C_SEV == 1]\n",
    "\n",
    "print(df_non_fatal.shape)\n",
    "print(df_fatal.shape)"
   ]
  },
  {
   "cell_type": "markdown",
   "metadata": {},
   "source": [
    "Codificamos un resample en 'df_fatal' para que los datos esten más balanceados, usamos un 20% de las muestras de 'df_non_fatal'"
   ]
  },
  {
   "cell_type": "code",
   "execution_count": 18,
   "metadata": {},
   "outputs": [],
   "source": [
    "df_fatal_upsampled = resample(df_fatal, replace = True, n_samples = 1152354, random_state = 1)"
   ]
  },
  {
   "cell_type": "code",
   "execution_count": 19,
   "metadata": {},
   "outputs": [],
   "source": [
    "df_fatal_upsampled = pd.concat([df_fatal_upsampled, df_non_fatal])"
   ]
  },
  {
   "cell_type": "code",
   "execution_count": 20,
   "metadata": {},
   "outputs": [
    {
     "data": {
      "text/plain": [
       "0    5761772\n",
       "1    1152354\n",
       "Name: C_SEV, dtype: int64"
      ]
     },
     "execution_count": 20,
     "metadata": {},
     "output_type": "execute_result"
    }
   ],
   "source": [
    "df_fatal_upsampled.C_SEV.value_counts()"
   ]
  },
  {
   "cell_type": "markdown",
   "metadata": {},
   "source": [
    "Hacemos la separacion de X e Y:\n",
    "- X contendrá el dataset sin la variable target\n",
    "- Y contendrá solamente la variable target"
   ]
  },
  {
   "cell_type": "code",
   "execution_count": 21,
   "metadata": {},
   "outputs": [],
   "source": [
    "X = df_fatal_upsampled.drop(\"C_SEV\", axis = 1)\n",
    "Y = df_fatal_upsampled.C_SEV"
   ]
  },
  {
   "cell_type": "code",
   "execution_count": 22,
   "metadata": {},
   "outputs": [],
   "source": [
    "X_train, X_test, y_train, y_test = train_test_split(X, Y, test_size=0.25, random_state=0)"
   ]
  },
  {
   "cell_type": "markdown",
   "metadata": {},
   "source": [
    "## Regularización Lasso"
   ]
  },
  {
   "cell_type": "code",
   "execution_count": 23,
   "metadata": {},
   "outputs": [],
   "source": [
    "from sklearn.linear_model import Lasso, LogisticRegression\n",
    "from sklearn.feature_selection import SelectFromModel, RFE\n",
    "from sklearn.preprocessing import StandardScaler, OneHotEncoder"
   ]
  },
  {
   "cell_type": "code",
   "execution_count": 24,
   "metadata": {},
   "outputs": [
    {
     "data": {
      "text/plain": [
       "['C_VEHS', 'C_CONF', 'C_RCFG', 'C_WTHR', 'C_RSUR', 'C_RALN', 'C_TRAF']"
      ]
     },
     "execution_count": 24,
     "metadata": {},
     "output_type": "execute_result"
    }
   ],
   "source": [
    "lista_columnas_categoricas = list(X_train.select_dtypes('category').columns)\n",
    "list_other = list(set(X_train.columns)-set(lista_columnas_categoricas))\n",
    "lista_columnas_categoricas"
   ]
  },
  {
   "cell_type": "code",
   "execution_count": 25,
   "metadata": {},
   "outputs": [
    {
     "data": {
      "text/plain": [
       "2001-09-05    0\n",
       "2001-10-03    0\n",
       "2000-05-03    0\n",
       "2006-04-02    1\n",
       "2000-04-04    0\n",
       "             ..\n",
       "2011-03-04    0\n",
       "2005-08-05    1\n",
       "2011-12-02    0\n",
       "2011-01-01    0\n",
       "2003-08-04    1\n",
       "Name: C_SEV, Length: 1728532, dtype: int64"
      ]
     },
     "execution_count": 25,
     "metadata": {},
     "output_type": "execute_result"
    }
   ],
   "source": [
    "y_test"
   ]
  },
  {
   "cell_type": "code",
   "execution_count": 26,
   "metadata": {},
   "outputs": [],
   "source": [
    "ohe = ce.OneHotEncoder(cols=lista_columnas_categoricas)\n",
    "model = ohe.fit(X_train, y_train)"
   ]
  },
  {
   "cell_type": "code",
   "execution_count": 27,
   "metadata": {},
   "outputs": [
    {
     "data": {
      "text/plain": [
       "OneHotEncoder(cols=['C_VEHS', 'C_CONF', 'C_RCFG', 'C_WTHR', 'C_RSUR', 'C_RALN',\n",
       "                    'C_TRAF'])"
      ]
     },
     "execution_count": 27,
     "metadata": {},
     "output_type": "execute_result"
    }
   ],
   "source": [
    "model"
   ]
  },
  {
   "cell_type": "code",
   "execution_count": 28,
   "metadata": {},
   "outputs": [
    {
     "data": {
      "text/plain": [
       "68"
      ]
     },
     "execution_count": 28,
     "metadata": {},
     "output_type": "execute_result"
    }
   ],
   "source": [
    "X_train_t = model.transform(X_train, y_train)\n",
    "X_test_t = model.transform(X_test, y_test)\n",
    "len(list(X_train_t.columns))"
   ]
  },
  {
   "cell_type": "code",
   "execution_count": 29,
   "metadata": {},
   "outputs": [
    {
     "data": {
      "text/plain": [
       "SelectFromModel(estimator=LogisticRegression(C=1, penalty='l1',\n",
       "                                             solver='liblinear'),\n",
       "                threshold=0.08)"
      ]
     },
     "execution_count": 29,
     "metadata": {},
     "output_type": "execute_result"
    }
   ],
   "source": [
    "sel_lasso = SelectFromModel(LogisticRegression(C=1, penalty='l1', solver='liblinear'), threshold = 0.08)\n",
    "sel_lasso.fit(X_train_t, y_train)"
   ]
  },
  {
   "cell_type": "code",
   "execution_count": 30,
   "metadata": {},
   "outputs": [
    {
     "data": {
      "text/plain": [
       "Index(['C_VEHS_1', 'C_VEHS_4', 'C_VEHS_5', 'C_VEHS_6', 'C_CONF_1', 'C_CONF_2',\n",
       "       'C_CONF_4', 'C_CONF_5', 'C_CONF_6', 'C_CONF_8', 'C_CONF_10',\n",
       "       'C_CONF_11', 'C_CONF_12', 'C_CONF_14', 'C_CONF_16', 'C_CONF_17',\n",
       "       'C_RCFG_1', 'C_RCFG_2', 'C_RCFG_3', 'C_RCFG_4', 'C_RCFG_5', 'C_RCFG_6',\n",
       "       'C_RCFG_7', 'C_RCFG_8', 'C_RCFG_9', 'C_RCFG_10', 'C_RCFG_15',\n",
       "       'C_RCFG_17', 'C_RCFG_18', 'C_WTHR_1', 'C_WTHR_2', 'C_WTHR_3',\n",
       "       'C_WTHR_5', 'C_RSUR_1', 'C_RSUR_3', 'C_RSUR_4', 'C_RALN_1', 'C_RALN_2',\n",
       "       'C_RALN_3', 'C_RALN_4', 'C_RALN_5', 'C_TRAF_1', 'C_TRAF_2', 'C_TRAF_3',\n",
       "       'C_TRAF_4', 'C_TRAF_5', 'C_TRAF_6', 'C_TRAF_7', 'C_TRAF_8'],\n",
       "      dtype='object')"
      ]
     },
     "execution_count": 30,
     "metadata": {},
     "output_type": "execute_result"
    }
   ],
   "source": [
    "sel_lasso.get_support()\n",
    "selected_feat_lasso = X_train_t.columns[sel_lasso.get_support()]\n",
    "selected_feat_lasso"
   ]
  },
  {
   "cell_type": "markdown",
   "metadata": {},
   "source": [
    "Vemos que variables nos selecciona el modelo"
   ]
  },
  {
   "cell_type": "code",
   "execution_count": 31,
   "metadata": {},
   "outputs": [
    {
     "name": "stdout",
     "output_type": "stream",
     "text": [
      "total features: 68\n",
      "selected features: 49\n"
     ]
    }
   ],
   "source": [
    "print('total features: {}'.format((X_train_t.shape[1])))\n",
    "print('selected features: {}'.format(len(selected_feat_lasso)))"
   ]
  },
  {
   "cell_type": "code",
   "execution_count": 32,
   "metadata": {},
   "outputs": [
    {
     "data": {
      "text/plain": [
       "Index(['C_VEHS_1', 'C_VEHS_4', 'C_VEHS_5', 'C_VEHS_6', 'C_CONF_1', 'C_CONF_2',\n",
       "       'C_CONF_4', 'C_CONF_5', 'C_CONF_6', 'C_CONF_8', 'C_CONF_10',\n",
       "       'C_CONF_11', 'C_CONF_12', 'C_CONF_14', 'C_CONF_16', 'C_CONF_17',\n",
       "       'C_RCFG_1', 'C_RCFG_2', 'C_RCFG_3', 'C_RCFG_4', 'C_RCFG_5', 'C_RCFG_6',\n",
       "       'C_RCFG_7', 'C_RCFG_8', 'C_RCFG_9', 'C_RCFG_10', 'C_RCFG_15',\n",
       "       'C_RCFG_17', 'C_RCFG_18', 'C_WTHR_1', 'C_WTHR_2', 'C_WTHR_3',\n",
       "       'C_WTHR_5', 'C_RSUR_1', 'C_RSUR_3', 'C_RSUR_4', 'C_RALN_1', 'C_RALN_2',\n",
       "       'C_RALN_3', 'C_RALN_4', 'C_RALN_5', 'C_TRAF_1', 'C_TRAF_2', 'C_TRAF_3',\n",
       "       'C_TRAF_4', 'C_TRAF_5', 'C_TRAF_6', 'C_TRAF_7', 'C_TRAF_8'],\n",
       "      dtype='object')"
      ]
     },
     "execution_count": 32,
     "metadata": {},
     "output_type": "execute_result"
    }
   ],
   "source": [
    "selected_feat_lasso"
   ]
  },
  {
   "cell_type": "markdown",
   "metadata": {},
   "source": [
    "Estudiamos los coeficientes del modelo lasso"
   ]
  },
  {
   "cell_type": "code",
   "execution_count": 33,
   "metadata": {},
   "outputs": [
    {
     "data": {
      "image/png": "[encoded data removed]",
      "text/plain": [
       "<Figure size 1152x276.48 with 1 Axes>"
      ]
     },
     "metadata": {
      "needs_background": "light"
     },
     "output_type": "display_data"
    }
   ],
   "source": [
    "df_coeficientes_lasso = pd.DataFrame(\n",
    "                        {'predictor': X_train_t.columns,\n",
    "                         'coef': sel_lasso.estimator_.coef_.flatten()}\n",
    "                  )\n",
    "\n",
    "fig, ax = plt.subplots(figsize=(16, 3.84))\n",
    "ax.stem(df_coeficientes_lasso.predictor, df_coeficientes_lasso.coef, markerfmt=' ')\n",
    "plt.xticks(rotation=90, ha='right', size=10)\n",
    "ax.set_xlabel('variable')\n",
    "ax.set_ylabel('coeficientes')\n",
    "ax.set_title('Coeficientes del modelo lasso');"
   ]
  },
  {
   "cell_type": "code",
   "execution_count": 34,
   "metadata": {},
   "outputs": [],
   "source": [
    "X_train_lasso = X_train_t[selected_feat_lasso]\n",
    "X_test_lasso = X_test_t[selected_feat_lasso]"
   ]
  },
  {
   "cell_type": "markdown",
   "metadata": {},
   "source": [
    "### Regresión logística"
   ]
  },
  {
   "cell_type": "code",
   "execution_count": 35,
   "metadata": {},
   "outputs": [
    {
     "data": {
      "text/plain": [
       "LogisticRegression(C=1, penalty='l1', solver='liblinear')"
      ]
     },
     "execution_count": 35,
     "metadata": {},
     "output_type": "execute_result"
    }
   ],
   "source": [
    "clf = LogisticRegression(C=1, penalty='l1', solver='liblinear')\n",
    "clf.fit(X_train_lasso, y_train)"
   ]
  },
  {
   "cell_type": "code",
   "execution_count": 36,
   "metadata": {},
   "outputs": [],
   "source": [
    "def evaluate_model(ytest, ypred, ypred_proba = None):\n",
    "    if ypred_proba is not None:\n",
    "        print('ROC-AUC score of the model: {}'.format(roc_auc_score(ytest, ypred_proba[:, 1])))\n",
    "    print('Accuracy of the model: {}\\n'.format(accuracy_score(ytest, ypred)))\n",
    "    print('Classification report: \\n{}\\n'.format(classification_report(ytest, ypred)))\n",
    "    print('Confusion matrix: \\n{}\\n'.format(confusion_matrix(ytest, ypred)))"
   ]
  },
  {
   "cell_type": "code",
   "execution_count": 37,
   "metadata": {},
   "outputs": [],
   "source": [
    "ypred = clf.predict(X_test_t[selected_feat_lasso])\n",
    "ypred_proba = clf.predict_proba(X_test_t[selected_feat_lasso])"
   ]
  },
  {
   "cell_type": "code",
   "execution_count": 38,
   "metadata": {},
   "outputs": [
    {
     "name": "stdout",
     "output_type": "stream",
     "text": [
      "ROC-AUC score of the model: 0.7666642229004755\n",
      "Accuracy of the model: 0.8478390912057168\n",
      "\n",
      "Classification report: \n",
      "              precision    recall  f1-score   support\n",
      "\n",
      "           0       0.86      0.98      0.91   1440322\n",
      "           1       0.63      0.21      0.32    288210\n",
      "\n",
      "    accuracy                           0.85   1728532\n",
      "   macro avg       0.75      0.59      0.62   1728532\n",
      "weighted avg       0.82      0.85      0.81   1728532\n",
      "\n",
      "\n",
      "Confusion matrix: \n",
      "[[1404438   35884]\n",
      " [ 227131   61079]]\n",
      "\n"
     ]
    }
   ],
   "source": [
    "evaluate_model(y_test, ypred, ypred_proba)"
   ]
  },
  {
   "cell_type": "markdown",
   "metadata": {},
   "source": [
    "Usamos el .to_parquet, para guardar las variables y poder usarlas en los siguientes scripts."
   ]
  },
  {
   "cell_type": "code",
   "execution_count": 39,
   "metadata": {},
   "outputs": [],
   "source": [
    "X_train_lasso.to_parquet(\"X_train.parquet\")\n",
    "X_test_lasso.to_parquet(\"X_test.parquet\")\n",
    "pd.DataFrame(y_train).to_parquet(\"ytrain.parquet\")\n",
    "pd.DataFrame(y_test).to_parquet(\"ytest.parquet\")"
   ]
  }
 ],
 "metadata": {
  "interpreter": {
   "hash": "bed5b5f32ec0f9db5ec1185532c5bb9098c3f7e6eb0832a1d669b5a83eea3d1f"
  },
  "kernelspec": {
   "display_name": "Python 3 (ipykernel)",
   "language": "python",
   "name": "python3"
  },
  "language_info": {
   "codemirror_mode": {
    "name": "ipython",
    "version": 3
   },
   "file_extension": ".py",
   "mimetype": "text/x-python",
   "name": "python",
   "nbconvert_exporter": "python",
   "pygments_lexer": "ipython3",
   "version": "3.8.8"
  }
 },
 "nbformat": 4,
 "nbformat_minor": 2
}
